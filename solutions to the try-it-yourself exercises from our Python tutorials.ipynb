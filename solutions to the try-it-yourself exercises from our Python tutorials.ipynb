{
 "cells": [
  {
   "cell_type": "markdown",
   "metadata": {},
   "source": [
    "Solutions to answers from Python tutorial 1 (on strings) and 2 (on lists and lines). Both tutorials and exercises were adapted with some modifications from Allison Parrish's excellent online introductions to Python:\n",
    "https://github.com/aparrish/rwet/blob/master/expressions-and-strings.ipynb\n",
    "https://github.com/aparrish/rwet/blob/master/understanding-lists-manipulating-lines.ipynb"
   ]
  },
  {
   "cell_type": "markdown",
   "metadata": {},
   "source": [
    "EXERCISES & SOLUTIONS FOR FIRST TUTORIAL ON STRINGS\n",
    "See Kari's First Jupyter Notebook on strings here: \n",
    "https://mybinder.org/v2/gh/karikraus/string_intro/9a173b11a60cc88204788b26d65d04a52ef5d314"
   ]
  },
  {
   "cell_type": "markdown",
   "metadata": {},
   "source": [
    "EXERCISE: Create a variable called poem and assign the text of \"Sea Rose\" to that variable. Use the len() function to find out how many characters are in it. Then, use the count() method to find out how many times the string rose occurs within it."
   ]
  },
  {
   "cell_type": "code",
   "execution_count": null,
   "metadata": {},
   "outputs": [],
   "source": [
    "poem = open(\"sea_rose.txt\").read()"
   ]
  },
  {
   "cell_type": "code",
   "execution_count": null,
   "metadata": {},
   "outputs": [],
   "source": [
    "print(poem)"
   ]
  },
  {
   "cell_type": "code",
   "execution_count": null,
   "metadata": {},
   "outputs": [],
   "source": [
    "len(poem)"
   ]
  },
  {
   "cell_type": "code",
   "execution_count": null,
   "metadata": {},
   "outputs": [],
   "source": [
    "poem.count(\"rose\")"
   ]
  },
  {
   "cell_type": "code",
   "execution_count": null,
   "metadata": {},
   "outputs": [],
   "source": [
    "poem.count(\"Rose\")"
   ]
  },
  {
   "cell_type": "code",
   "execution_count": null,
   "metadata": {},
   "outputs": [],
   "source": [
    "poem_lower_case = poem.lower()"
   ]
  },
  {
   "cell_type": "code",
   "execution_count": null,
   "metadata": {},
   "outputs": [],
   "source": [
    "poem_lower_case.count(\"rose\")"
   ]
  },
  {
   "cell_type": "markdown",
   "metadata": {},
   "source": [
    "EXERCISE: Write an expression, or a series of expressions, that prints out \"Sea Rose\" from the first occurence of the string sand up until the end of the poem. (Hint: Use the .find() method, discussed in class in addition to string slicing methods). My code, which I'll share later, is three lines long and uses two variables: \"poem\", as stipulated in this prompt, and another variable to identify and hold the location of the string \"sand\". Another hint: your first line should be \"poem = open(\"sea_rose.txt\").read()\" minus the quotation marks."
   ]
  },
  {
   "cell_type": "code",
   "execution_count": null,
   "metadata": {},
   "outputs": [],
   "source": [
    "poem = open(\"sea_rose.txt\").read()\n",
    "sand = poem.find(\"sand\")\n",
    "print(poem[sand:])"
   ]
  },
  {
   "cell_type": "markdown",
   "metadata": {},
   "source": [
    "EXERCISE: Write an expression that evaluates to a string containing the first fifty characters of \"Sea Rose\" followed by the last fifty characters of \"Sea Rose.\""
   ]
  },
  {
   "cell_type": "code",
   "execution_count": null,
   "metadata": {},
   "outputs": [],
   "source": [
    "poem = open(\"sea_rose.txt\").read()\n",
    "first_fifty = poem[:51]\n",
    "last_fifty = poem[-50:]\n",
    "print(first_fifty + \" \" + last_fifty)"
   ]
  },
  {
   "cell_type": "markdown",
   "metadata": {},
   "source": [
    "EXERCISES & SOLUTIONS FOR TUTORIAL ON LISTS & LINES\n",
    "See Kari's second Jupyter notebook on lists & lines at https://mybinder.org/v2/gh/karikraus/lists-and-lines/master)"
   ]
  },
  {
   "cell_type": "markdown",
   "metadata": {},
   "source": [
    "EXERCISE: Try filtering lines in the sea-rose poem so that only lines containing the word \"rose\" print out. Hint: you'll need to incorporate an \"if\" statement in your first line to indicate that only lines that meet a certain condition should print. Review the \"filtering lines\" section in Parrish's tutorial and the examples with \"if\" statements in my \"Lists and Lines\" Jupyter notebook."
   ]
  },
  {
   "cell_type": "code",
   "execution_count": null,
   "metadata": {},
   "outputs": [],
   "source": [
    "poem = [line for line in open(\"sea_rose.txt\") if \"rose\" in line]\n",
    "x = (' ').join(poem)\n",
    "print(x)"
   ]
  },
  {
   "cell_type": "markdown",
   "metadata": {},
   "source": [
    "Alternative solution for this exercise"
   ]
  },
  {
   "cell_type": "code",
   "execution_count": null,
   "metadata": {},
   "outputs": [],
   "source": [
    "poem = open(\"sea_rose.txt\").read()\n",
    "lines = poem.split(\"\\n\")\n",
    "for line in lines:\n",
    "    if \"rose\" in line:\n",
    "        print(line)"
   ]
  },
  {
   "cell_type": "markdown",
   "metadata": {},
   "source": [
    "ADVANCED EXERCISE (for this one, you may just want to look at my solution: variation on above: filter lines in the sea-rose poem so that lines containing the word \"rose\" print in upper case and all other lines print in lower case. Hint: in addition to the \"if\" statement used above, this time modified using the .upper() method, you'll also need to add an \"else\" statement to print the remaining lines in lower case using the .lower() method. Note that the \"for\" statement signals a loop, telling Python that we want it to iterate through each line of the poem in turn to check to see if that line contains the word \"rose.\" The conditional \"if\" statement says, in effect, \"if the line contains the word \"rose,\" print that line in all upper case. The else statement translates roughly as \"for all other lines, print in lower case.\" "
   ]
  },
  {
   "cell_type": "code",
   "execution_count": null,
   "metadata": {},
   "outputs": [],
   "source": [
    "poem = open(\"sea_rose.txt\").read()\n",
    "lines = poem.split(\"\\n\")\n",
    "for line in lines:\n",
    "    if \"rose\" in line:\n",
    "        print(line.upper())\n",
    "    else:\n",
    "        print(line.lower())"
   ]
  },
  {
   "cell_type": "markdown",
   "metadata": {},
   "source": [
    "EXERCISE: Apply each of the different functions available in the \"random\" library to the sea rose poem. As a refresher, the three we worked with are random.sample, random.choice, and random.shuffle. Try applying each of them to the poem at the level of lines (e.g., write a simple program that randomly shuffles the lines of the sea-rose poem (random.shuffle), then write a new program that randomly selects and prints one line of the poem (random.choice), then write a third program that randomly samples some specific number of lines (3 or 4 or however many you want). Hint: to work with the poem at the level of lines, you'll want to split the poem at the end of each line. And don't forget to import the \"random\" library. Here's what your first three lines of code for each of these programs will look like:\n",
    "\n",
    "import random\n",
    "poem = open(\"sea_rose.txt\").read()\n",
    "lines = poem.split(\"\\n\")\n",
    "\n",
    "From there, you'll want to review how to apply each of the random functions by visiting my Jupyter notebook or Allison Parrish's tutorial. One more hint: for both random.shuffle and random.sample, you'll want to use the join operation toward the end to turn your list back into a string. So the third line of each program turns your string into a list of lines, and then for two of the functions, you'll want to turn those lists back into strings before you print them. Your last line in each program will use the \"print\" command."
   ]
  },
  {
   "cell_type": "code",
   "execution_count": null,
   "metadata": {},
   "outputs": [],
   "source": [
    "import random\n",
    "poem = open(\"sea_rose.txt\").read()\n",
    "lines = poem.split(\"\\n\")\n",
    "random.shuffle(lines)\n",
    "poem_shuffled = '\\n'.join(lines)\n",
    "print(poem_shuffled)"
   ]
  },
  {
   "cell_type": "code",
   "execution_count": null,
   "metadata": {},
   "outputs": [],
   "source": [
    "import random\n",
    "poem = open(\"sea_rose.txt\").read()\n",
    "lines = poem.split(\"\\n\")\n",
    "random.choice(lines)\n",
    "print(choice)"
   ]
  },
  {
   "cell_type": "code",
   "execution_count": null,
   "metadata": {},
   "outputs": [],
   "source": [
    "import random\n",
    "poem = open(\"sea_rose.txt\").read()\n",
    "lines = poem.split(\"\\n\")\n",
    "sample = random.sample(lines, 4)\n",
    "sample_formatted = '\\n'.join(sample)\n",
    "print(sample_formatted)"
   ]
  },
  {
   "cell_type": "code",
   "execution_count": null,
   "metadata": {},
   "outputs": [],
   "source": []
  },
  {
   "cell_type": "code",
   "execution_count": null,
   "metadata": {},
   "outputs": [],
   "source": [
    "import random\n",
    "poem = open(\"sea_rose.txt\").read()\n",
    "rosepoem = poem.split(\"\\n\")\n",
    "for line in rosepoem:\n",
    "    words = line.split()\n",
    "    random.shuffle(words)\n",
    "    line = ' '.join(words)\n",
    "    print(line)"
   ]
  },
  {
   "cell_type": "code",
   "execution_count": null,
   "metadata": {},
   "outputs": [],
   "source": []
  }
 ],
 "metadata": {
  "kernelspec": {
   "display_name": "Python 3",
   "language": "python",
   "name": "python3"
  },
  "language_info": {
   "codemirror_mode": {
    "name": "ipython",
    "version": 3
   },
   "file_extension": ".py",
   "mimetype": "text/x-python",
   "name": "python",
   "nbconvert_exporter": "python",
   "pygments_lexer": "ipython3",
   "version": "3.7.6"
  }
 },
 "nbformat": 4,
 "nbformat_minor": 2
}
